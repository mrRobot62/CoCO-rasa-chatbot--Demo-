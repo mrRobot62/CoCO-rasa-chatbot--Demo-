{
 "cells": [
  {
   "cell_type": "markdown",
   "metadata": {},
   "source": [
    "# CoCO - your sophisticated and lovely tiny Commerzbank Chat Operator"
   ]
  },
  {
   "cell_type": "markdown",
   "metadata": {},
   "source": [
    "<img src=\"img/coco_avatar.jpg\" height=\"100\" />"
   ]
  },
  {
   "cell_type": "markdown",
   "metadata": {},
   "source": [
    "## Demo Commerzbank - rasa - Account ChatBot\n",
    "Hi I'm CoCO your Commerzbank Chat Operator. I'm able to assist you in all questions around your account. But I'm new in Commerzbank and I do not know everything. You should be patient and help me to learn this.\n",
    "\n",
    "At the beginning I only now topics around\n",
    "* asking for your name. \n",
    "* asking for your accounts\n",
    "* get a list of all accounts\n",
    "* your account balance\n",
    "* your maximum debit\n",
    "* I can give you your IBAN per account\n",
    "* Bot-Context:\n",
    "    - username\n",
    "    - account number\n",
    "\n",
    "If you help me, I will learn more - trust me -\n"
   ]
  },
  {
   "cell_type": "markdown",
   "metadata": {},
   "source": [
    "# CoCO is based on rasa_nlu - Natural language understanding"
   ]
  },
  {
   "cell_type": "markdown",
   "metadata": {},
   "source": [
    "This notebook is based on a local configured machine with below pre installations available\n",
    "* Python 3.6.x (do not install Python 3.7, because (JUL18), there is no TensorFlow package available\n",
    "* Latest version from rasa_core (rasa.com)\n",
    "* Latest version from rasa_nlu (rasa.com)\n",
    "* Latest version from spaCy\n",
    "* Tensorflow (should be installed with rasa_core)\n",
    "* Keras (should be installed with rasa_core)"
   ]
  },
  {
   "cell_type": "code",
   "execution_count": null,
   "metadata": {},
   "outputs": [],
   "source": [
    "# use this requirement file if you have to install all packages again\n",
    "#!pip3 install -r requirements.txt"
   ]
  },
  {
   "cell_type": "markdown",
   "metadata": {},
   "source": [
    "### recommandation - download medium size language model (_md) instead of _sm)\n",
    "\n",
    "you should download language files only once - for this demo ONLY english is used"
   ]
  },
  {
   "cell_type": "code",
   "execution_count": null,
   "metadata": {},
   "outputs": [],
   "source": [
    "# Language files are > 100MB\n",
    "\n",
    "# ENGLISH\n",
    "#python3 -m spacy download en_core_web_md\n",
    "#python3 -m spacy link en_core_web_md en\n",
    "\n",
    "# GERMAN\n",
    "#python3 -m spacy download de_core_web_md\n",
    "#python3 -m spacy link de_core_web_md de\n",
    "\n",
    "# MULTI\n",
    "#python3 -m spacy download xx_core_web_md\n",
    "#python3 -m spacy link xx_core_web_md xx\n"
   ]
  },
  {
   "cell_type": "markdown",
   "metadata": {},
   "source": [
    "next part is only for checking, if environment is set to Python 3.6"
   ]
  },
  {
   "cell_type": "code",
   "execution_count": null,
   "metadata": {},
   "outputs": [],
   "source": [
    "import sys\n",
    "sys.path"
   ]
  },
  {
   "cell_type": "code",
   "execution_count": null,
   "metadata": {},
   "outputs": [],
   "source": [
    "!python3 --version"
   ]
  },
  {
   "cell_type": "code",
   "execution_count": null,
   "metadata": {},
   "outputs": [],
   "source": [
    "!mkdir data"
   ]
  },
  {
   "cell_type": "markdown",
   "metadata": {},
   "source": [
    "Only a test if rasa core & nlu is available. Result should 2x 0"
   ]
  },
  {
   "cell_type": "code",
   "execution_count": null,
   "metadata": {},
   "outputs": [],
   "source": [
    "!python3 -c \"import rasa_core\"\n",
    "!echo $?\n",
    "\n",
    "!python3 -c \"import rasa_nlu\"\n",
    "!echo $?"
   ]
  },
  {
   "cell_type": "code",
   "execution_count": null,
   "metadata": {},
   "outputs": [],
   "source": [
    "import logging, io, json, warnings\n",
    "logging.basicConfig(level=\"INFO\")\n",
    "warnings.filterwarnings('ignore')"
   ]
  },
  {
   "cell_type": "markdown",
   "metadata": {},
   "source": [
    "# NLU-TRAINING Step 1 (DATA) \n",
    "## Let's  start with a data.json file - contain intents, entities, ..."
   ]
  },
  {
   "cell_type": "markdown",
   "metadata": {},
   "source": [
    "If we build a NLU-ChatBot, one of the first things is to create a data file which contain intents and entities (and later on much more).\n",
    "\n",
    "In this first step, the file contain only some greetings and some intents around the account number\n",
    "\n",
    "To create below file, you can use **rasa-nlu-trainer*** but before you can do this, you need node.js and install via npm this trainer"
   ]
  },
  {
   "cell_type": "markdown",
   "metadata": {},
   "source": [
    "If you got this: \"mkdir: data: File exists\" - don't worry, the folder is already existing :-)"
   ]
  },
  {
   "cell_type": "markdown",
   "metadata": {},
   "source": [
    "#### Please go to the overview page and check in data/coco_data.json file\n",
    "\n",
    "This file contain current intents and entities. It's to big to show it here"
   ]
  },
  {
   "cell_type": "markdown",
   "metadata": {},
   "source": [
    "### Short introductin into the structure\n",
    "\n",
    "    {\n",
    "        {\n",
    "            \"text\": \"Hello\",\n",
    "            \"intent\": \"greet\",\n",
    "            \"entities\": []\n",
    "          },\n",
    "    }\n",
    "\n",
    "This is a simple intent with no entities. Predicted user text is **Hello** and the intent behind is **greet**.\n",
    "That means, if user enter **Hello**, nlu map this input the the intent **greet**\n",
    "\n",
    "      {\n",
    "        \"text\": \"what is my account number?\",\n",
    "        \"intent\": \"user_ask_accountnumbers\",\n",
    "        \"entities\": [\n",
    "          {\n",
    "            \"start\": 11,\n",
    "            \"end\": 25,\n",
    "            \"value\": \"account number\",\n",
    "            \"entity\": \"accountnumber\"\n",
    "          }\n",
    "        ]\n",
    "      },\n",
    "\n",
    "This is a more complicated intent. User input **what is my ....**, is mapped to the intent **user_ask_accountnumbers**. So know, we know user ask something around account numbers. The entity is in this case the part **account number** in users input text and is mapped to the entity **accountnumber**.\n"
   ]
  },
  {
   "cell_type": "markdown",
   "metadata": {},
   "source": [
    "# TRAINING Step 2 (CONFIG)\n",
    "## creating a configuration file for CoCO"
   ]
  },
  {
   "cell_type": "markdown",
   "metadata": {},
   "source": [
    "this configuration file contain some important information for the AI behind the chatbot and are used during trainging.\n",
    "\n",
    "We name this file config_spacy.json\n",
    "\n",
    "### Processing Pipeline\n",
    "The process of incoming messages is split into different components. These components are executed one after another in a so called processing pipeline. There are components for entity extraction, for intent classification, pre-processing and there will be many more in the future.\n",
    "\n",
    "Each component processes the input and creates an output. The ouput can be used by any component that comes after this component in the pipeline. There are components which only produce information that is used by other components in the pipeline and there are other components that produce Output attributes which will be returned after the processing has finished. For example, for the sentence \"I am looking for Chinese food\" the output\n",
    "\n",
    "In the pipeline you describe which featurizer, feature extractor, tokenizer you want to use to analyse you text. The result from one component is send to the next component in the pipeline.\n",
    "\n",
    "<img src=\"img/component_lifecycle.png\"/>\n"
   ]
  },
  {
   "cell_type": "code",
   "execution_count": null,
   "metadata": {},
   "outputs": [],
   "source": [
    "config = \"\"\"\n",
    "language : \"en\"\n",
    "\n",
    "pipeline:\n",
    "- name: \"nlp_spacy\"\n",
    "- name: \"tokenizer_spacy\"\n",
    "- name: \"intent_featurizer_spacy\"\n",
    "- name: \"intent_classifier_sklearn\"\n",
    "\"\"\"\n",
    "\n",
    "%store config > config_spacy.yml"
   ]
  },
  {
   "cell_type": "markdown",
   "metadata": {},
   "source": [
    "# TRAIING Step 3a (training)\n",
    "## creating a nlu_model.py file\n",
    "\n",
    "This file is needed to load the model and train the bot"
   ]
  },
  {
   "cell_type": "code",
   "execution_count": 1,
   "metadata": {
    "scrolled": true
   },
   "outputs": [
    {
     "name": "stderr",
     "output_type": "stream",
     "text": [
      "/Library/Frameworks/Python.framework/Versions/3.6/lib/python3.6/site-packages/h5py/__init__.py:34: FutureWarning: Conversion of the second argument of issubdtype from `float` to `np.floating` is deprecated. In future, it will be treated as `np.float64 == np.dtype(float).type`.\n",
      "  from ._conv import register_converters as _register_converters\n"
     ]
    },
    {
     "name": "stdout",
     "output_type": "stream",
     "text": [
      "Fitting 2 folds for each of 6 candidates, totalling 12 fits\n"
     ]
    },
    {
     "name": "stderr",
     "output_type": "stream",
     "text": [
      "/Library/Frameworks/Python.framework/Versions/3.6/lib/python3.6/site-packages/sklearn/metrics/classification.py:1135: UndefinedMetricWarning: F-score is ill-defined and being set to 0.0 in labels with no predicted samples.\n",
      "  'precision', 'predicted', average, warn_for)\n",
      "/Library/Frameworks/Python.framework/Versions/3.6/lib/python3.6/site-packages/sklearn/metrics/classification.py:1135: UndefinedMetricWarning: F-score is ill-defined and being set to 0.0 in labels with no predicted samples.\n",
      "  'precision', 'predicted', average, warn_for)\n",
      "/Library/Frameworks/Python.framework/Versions/3.6/lib/python3.6/site-packages/sklearn/metrics/classification.py:1135: UndefinedMetricWarning: F-score is ill-defined and being set to 0.0 in labels with no predicted samples.\n",
      "  'precision', 'predicted', average, warn_for)\n",
      "/Library/Frameworks/Python.framework/Versions/3.6/lib/python3.6/site-packages/sklearn/metrics/classification.py:1135: UndefinedMetricWarning: F-score is ill-defined and being set to 0.0 in labels with no predicted samples.\n",
      "  'precision', 'predicted', average, warn_for)\n",
      "/Library/Frameworks/Python.framework/Versions/3.6/lib/python3.6/site-packages/sklearn/metrics/classification.py:1135: UndefinedMetricWarning: F-score is ill-defined and being set to 0.0 in labels with no predicted samples.\n",
      "  'precision', 'predicted', average, warn_for)\n",
      "/Library/Frameworks/Python.framework/Versions/3.6/lib/python3.6/site-packages/sklearn/metrics/classification.py:1135: UndefinedMetricWarning: F-score is ill-defined and being set to 0.0 in labels with no predicted samples.\n",
      "  'precision', 'predicted', average, warn_for)\n",
      "[Parallel(n_jobs=1)]: Done  12 out of  12 | elapsed:    0.0s finished\n"
     ]
    }
   ],
   "source": [
    "#%%writefile nlu_model.py\n",
    "\n",
    "# if you change something in this cell please remove from next line the #, run cell and afterwards insert # again\n",
    "#\n",
    "\n",
    "# this is needed to load our training dataset\n",
    "from rasa_nlu.training_data import load_data\n",
    "# this is needed to load our configuration file\n",
    "from rasa_nlu.config import RasaNLUModelConfig\n",
    "from rasa_nlu import config\n",
    "# this is our Model-Trainer\n",
    "from rasa_nlu.model import Trainer\n",
    "\n",
    "def training_nlu (data, config_spacy, model_path):\n",
    "    training_data = load_data(data)\n",
    "    # this is our Trainer, he's responsible to train the bot due to training data\n",
    "    #trainer = Trainer(RasaNLUModelConfig({\"pipeline\": pipeline}))\n",
    "    trainer = Trainer(config.load(config_spacy))\n",
    "\n",
    "    # start training\n",
    "    interpreter = trainer.train(training_data)\n",
    "    # persist the training result\n",
    "    model_directory = trainer.persist(model_path, fixed_model_name = \"coconlu\")\n",
    "   \n",
    "\n",
    "if __name__ == '__main__':\n",
    "    training_nlu('./data/coco_data.json', \"./config_spacy.yml\", './models/nlu')\n",
    "    \n"
   ]
  },
  {
   "cell_type": "markdown",
   "metadata": {},
   "source": [
    "### Check if model files are available\n",
    "\n",
    "you have to go to Jupyter overview (click above on jupyter logo)\n",
    "Go to subfolder **models/nlu/default**\n",
    "System should created a new folder **coconlu** with following files\n",
    "* intent_classifier_sklearn.pkl\n",
    "* metadata.json\n",
    "* training_data.json"
   ]
  },
  {
   "cell_type": "markdown",
   "metadata": {},
   "source": [
    "# TRAINING Step 3b ( build a model)"
   ]
  },
  {
   "cell_type": "code",
   "execution_count": 3,
   "metadata": {},
   "outputs": [
    {
     "name": "stdout",
     "output_type": "stream",
     "text": [
      "Fitting 2 folds for each of 6 candidates, totalling 12 fits\n"
     ]
    },
    {
     "name": "stderr",
     "output_type": "stream",
     "text": [
      "/Library/Frameworks/Python.framework/Versions/3.6/lib/python3.6/site-packages/sklearn/metrics/classification.py:1135: UndefinedMetricWarning: F-score is ill-defined and being set to 0.0 in labels with no predicted samples.\n",
      "  'precision', 'predicted', average, warn_for)\n",
      "/Library/Frameworks/Python.framework/Versions/3.6/lib/python3.6/site-packages/sklearn/metrics/classification.py:1135: UndefinedMetricWarning: F-score is ill-defined and being set to 0.0 in labels with no predicted samples.\n",
      "  'precision', 'predicted', average, warn_for)\n",
      "/Library/Frameworks/Python.framework/Versions/3.6/lib/python3.6/site-packages/sklearn/metrics/classification.py:1135: UndefinedMetricWarning: F-score is ill-defined and being set to 0.0 in labels with no predicted samples.\n",
      "  'precision', 'predicted', average, warn_for)\n",
      "/Library/Frameworks/Python.framework/Versions/3.6/lib/python3.6/site-packages/sklearn/metrics/classification.py:1135: UndefinedMetricWarning: F-score is ill-defined and being set to 0.0 in labels with no predicted samples.\n",
      "  'precision', 'predicted', average, warn_for)\n",
      "/Library/Frameworks/Python.framework/Versions/3.6/lib/python3.6/site-packages/sklearn/metrics/classification.py:1135: UndefinedMetricWarning: F-score is ill-defined and being set to 0.0 in labels with no predicted samples.\n",
      "  'precision', 'predicted', average, warn_for)\n",
      "/Library/Frameworks/Python.framework/Versions/3.6/lib/python3.6/site-packages/sklearn/metrics/classification.py:1135: UndefinedMetricWarning: F-score is ill-defined and being set to 0.0 in labels with no predicted samples.\n",
      "  'precision', 'predicted', average, warn_for)\n",
      "[Parallel(n_jobs=1)]: Done  12 out of  12 | elapsed:    0.1s finished\n"
     ]
    },
    {
     "name": "stdout",
     "output_type": "stream",
     "text": [
      "{'intent': {'name': 'user_ask_accountnumbers', 'confidence': 0.4601363274961629}, 'entities': [], 'intent_ranking': [{'name': 'user_ask_accountnumbers', 'confidence': 0.4601363274961629}, {'name': 'chatbot_need_username', 'confidence': 0.35950975468983354}, {'name': 'goodbye', 'confidence': 0.1166203262914735}, {'name': 'greet', 'confidence': 0.06373359152253019}], 'text': 'I would like to have my account number'}\n"
     ]
    }
   ],
   "source": [
    "#%%writefile nlu_model.py\n",
    "\n",
    "# if you change something in this cell please remove from next line the #, run cell and afterwards insert # again\n",
    "#\n",
    "\n",
    "# this is needed to load our training dataset\n",
    "from rasa_nlu.training_data import load_data\n",
    "# this is needed to load our configuration file\n",
    "from rasa_nlu.config import RasaNLUModelConfig\n",
    "from rasa_nlu import config\n",
    "# this is our Model-Trainer\n",
    "from rasa_nlu.model import Trainer\n",
    "from rasa_nlu.model import Metadata, Interpreter\n",
    "\n",
    "def training_nlu (data, config_spacy, model_path):\n",
    "    training_data = load_data(data)\n",
    "    # this is our Trainer, he's responsible to train the bot due to training data\n",
    "    #trainer = Trainer(RasaNLUModelConfig({\"pipeline\": pipeline}))\n",
    "    trainer = Trainer(config.load(config_spacy))\n",
    "\n",
    "    # start training\n",
    "    trainer.train(training_data)\n",
    "    # persist the training result\n",
    "    model_directory = trainer.persist(model_path, fixed_model_name = \"coconlu\")\n",
    " \n",
    "def run_nlu():\n",
    "    interpreter = Interpreter.load('./models/nlu/default/coconlu')\n",
    "    print (interpreter.parse(u\"I would like to have my account number\"))\n",
    "    \n",
    "    \n",
    "if __name__ == '__main__':\n",
    "    training_nlu('./data/coco_data.json', \"./config_spacy.yml\", './models/nlu')\n",
    "    run_nlu()\n",
    "\n"
   ]
  },
  {
   "cell_type": "markdown",
   "metadata": {},
   "source": [
    "### Happy days - our first response was send back from the bot\n",
    "\n",
    "* {'intent': {'name': **'accountnumber'**, 'confidence': 0.6448104231702032}, 'entities': [] ...\n",
    "    - Yes, NLU recognized, that user want someting about account number\n",
    "\n",
    "* {'intent': {'name': 'accountnumber', **'confidence': 0.6448104231702032}**, 'entities': [],...\n",
    "    - We got a prediction of approx 65%\n",
    "\n",
    "* {'intent': {'name': 'accountnumber', 'confidence': 0.6448104231702032}, **'entities': []** ...\n",
    "    - No entities found\n",
    "\n",
    "The Rest of the json file are predictions of other intents with less percentage"
   ]
  },
  {
   "cell_type": "markdown",
   "metadata": {},
   "source": [
    "### Let's test with a more or less exakt question "
   ]
  },
  {
   "cell_type": "code",
   "execution_count": null,
   "metadata": {},
   "outputs": [],
   "source": [
    "#%%writefile nlu_model.py\n",
    "\n",
    "# if you change something in this cell please remove from next line the #, run cell and afterwards insert # again\n",
    "#\n",
    "\n",
    "# this is needed to load our training dataset\n",
    "from rasa_nlu.training_data import load_data\n",
    "# this is needed to load our configuration file\n",
    "from rasa_nlu.config import RasaNLUModelConfig\n",
    "from rasa_nlu import config\n",
    "# this is our Model-Trainer\n",
    "from rasa_nlu.model import Trainer\n",
    "from rasa_nlu.model import Metadata, Interpreter\n",
    "\n",
    "def training_nlu (data, config_spacy, model_path):\n",
    "    training_data = load_data(data)\n",
    "    # this is our Trainer, he's responsible to train the bot due to training data\n",
    "    #trainer = Trainer(RasaNLUModelConfig({\"pipeline\": pipeline}))\n",
    "    trainer = Trainer(config.load(config_spacy))\n",
    "\n",
    "    # start training\n",
    "    trainer.train(training_data)\n",
    "    # persist the training result\n",
    "    model_directory = trainer.persist(model_path, fixed_model_name = \"coconlu\")\n",
    " \n",
    "def run_nlu():\n",
    "    interpreter = Interpreter.load('./models/nlu/default/coconlu')\n",
    "    print (interpreter.parse(u\"get my account number\"))\n",
    "    \n",
    "    \n",
    "if __name__ == '__main__':\n",
    "    training_nlu('./data/coco_data.json', \"./config_spacy.yml\", './models/nlu')\n",
    "    run_nlu()\n",
    "\n"
   ]
  },
  {
   "cell_type": "code",
   "execution_count": null,
   "metadata": {},
   "outputs": [],
   "source": [
    "#%%writefile nlu_model.py\n",
    "\n",
    "# overwrite current nlu_model.py with this version \n",
    "\n",
    "# this is needed to load our training dataset\n",
    "from rasa_nlu.training_data import load_data\n",
    "# this is needed to load our configuration file\n",
    "from rasa_nlu.config import RasaNLUModelConfig\n",
    "from rasa_nlu import config\n",
    "# this is our Model-Trainer\n",
    "from rasa_nlu.model import Trainer\n",
    "from rasa_nlu.model import Metadata, Interpreter\n",
    "\n",
    "def training_nlu (data, config_spacy, model_path):\n",
    "    training_data = load_data(data)\n",
    "    # this is our Trainer, he's responsible to train the bot due to training data\n",
    "    #trainer = Trainer(RasaNLUModelConfig({\"pipeline\": pipeline}))\n",
    "    trainer = Trainer(config.load(config_spacy))\n",
    "\n",
    "    # start training\n",
    "    trainer.train(training_data)\n",
    "    # persist the training result\n",
    "    model_directory = trainer.persist(model_path, fixed_model_name = \"coconlu\")\n",
    " \n",
    "def run_nlu():\n",
    "    interpreter = Interpreter.load('./models/nlu/default/coconlu')\n",
    "    print (interpreter.parse(u\"hello\"))\n",
    "    \n",
    "    \n",
    "if __name__ == '__main__':\n",
    "    training_nlu('./data/coco_data.json', \"./config_spacy.yml\", './models/nlu')\n",
    "    run_nlu()\n",
    "\n"
   ]
  },
  {
   "cell_type": "markdown",
   "metadata": {},
   "source": [
    "# Creating a dialog for CoCO - rasa_core\n",
    "\n",
    "## STEP 1  (DOMAIN) - we create a dialog flow for CoCO\n",
    "\n",
    "first we have to create a domain specific file. A domain is coco's universe or world. In this domain, CoCO can act and use actions during a conversation with the user.\n",
    "\n",
    "### Step 1a - creating a domain specific file\n",
    "\n",
    "A domain contain five different parts\n",
    "* slots\n",
    "    - Slots are the storage space for data from an entity. They store the context of the chat.\n",
    "        - Example: accountnumber: - type: text\n",
    "    The slot is \"accountnumber\" and the value is a text-value (alphanumeric)\n",
    "    - Via a tracker, we can get this information inside our application logic. tracker.get_slot(\"accountnumber\")\n",
    "\n",
    "* intents\n",
    "    - Intents are parts of a conversation, which the bot should expected to response to. Inside NLU, this is the first step. The sentence will be categorized in an **intend**\n",
    "        - Example: \"Hello CoCO\" (user input) refers to intent: \"intent_greet\",\n",
    "        \"I need my account number\" => \"intent_accountnumber\"\n",
    "    - The intent describe what the user probably meant to say\n",
    "* entities\n",
    "    - pieces of info you want to extract from messages. This is inside NLU the second step. Words in the sentence are categorized into **entities**. Like **accountnumber**\n",
    "* templates\n",
    "    - Utterance templates are messages the bot will send back to the user.\n",
    "    Either automatically by an action with the same name as the utterance or by an action with custom code.\n",
    "\n",
    "* actions\n",
    "    - Actions are things, which can CoCO do. Like calling an API, reading from a database, searching some in the background. Allways an action reflects to an specific function. \n",
    "    - Actions and templates **should use the same names**\n",
    "    - Actions can do:\n",
    "        - response to a user\n",
    "        - call an API / Service / ...\n",
    "        - query database\n",
    "\n"
   ]
  },
  {
   "cell_type": "code",
   "execution_count": null,
   "metadata": {},
   "outputs": [],
   "source": [
    "domain = \"\"\"\n",
    "intents:\n",
    "- greet\n",
    "- goodbye\n",
    "- user_need_help\n",
    "- chatbot_need_username\n",
    "\n",
    "\n",
    "entities:\n",
    "- accountnumber\n",
    "- username\n",
    "\n",
    "actions:\n",
    "- utter_greet\n",
    "- utter_goodbye\n",
    "- utter_chatbot_need_username\n",
    "- utter_user_need_help\n",
    "- utter_user_ask_accountnumbers\n",
    "- actions.ActionAccountNumber\n",
    "- actions.ActionHelp\n",
    "- actions.ActionUsername\n",
    "\n",
    "templates:\n",
    "    utter_greet:\n",
    "        - 'Hi, I am CoCO your virtual operator. What can I do for your?'\n",
    "        - 'Nice to meet you. Here is CoCO your virtal operator. What are your interested in?'\n",
    "        - 'This is CoCO your sophisticated virtual operator. What would you like to do?'\n",
    "        - 'Hey What would you like to do?'\n",
    "\n",
    "    utter_goodbye:\n",
    "        - 'It was a pleasure to meet you. Good bye'\n",
    "        - 'See you later'\n",
    "        - 'Hope I could help you. Bye'\n",
    "        - 'Bye bye'\n",
    "        - ' Cu u later aligator'\n",
    "        \n",
    "    utter_chatbot_need_username:\n",
    "        - 'For saftey issues, I need your first name'\n",
    "        - 'Mhm, maybe I do not know you. Please enter your first name'\n",
    "        - 'Ups, I forgot your name, could you please enter for first name'\n",
    "\n",
    "    utter_user_need_help:\n",
    "        - 'You can every type in every time \"help\". Than I give you a list of possible commands'\n",
    "        \n",
    "\n",
    "    utter_user_ask_accountnumbers:\n",
    "        - 'I will check the system for your account number. Just a moment...'\n",
    "        - 'I will ask backoffice to get your account number. Be patient...'\n",
    "        \n",
    "\n",
    "\n",
    "slots:\n",
    "    username:\n",
    "        type: text\n",
    "    accountnumber:\n",
    "        type: text\n",
    "\n",
    "\"\"\"\n",
    "\n",
    "#%store domain > coco_domain.yml"
   ]
  },
  {
   "cell_type": "markdown",
   "metadata": {},
   "source": [
    "## Step 2 (ACTION) : Defining actions in Python\n",
    "\n",
    "If you want to implement more complicated actions (like reading the accountnumber and not only answering of something. We need an **actions.py** file and implement this business logic.\n",
    "\n",
    "If you run this cell, the Account-MOCK will print some information out"
   ]
  },
  {
   "cell_type": "code",
   "execution_count": null,
   "metadata": {},
   "outputs": [],
   "source": [
    "#%%writefile actions.py\n",
    "\n",
    "# to run this cell insert a # before %%writefile, to store content, remove #\n",
    "\n",
    "\n",
    "from __future__ import absolute_import\n",
    "from __future__ import division\n",
    "from __future__ import unicode_literals\n",
    "\n",
    "# some imports from rasa\n",
    "from rasa_core.actions.action import Action\n",
    "from rasa_core.events import SlotSet\n",
    "\n",
    "#\n",
    "# import our Account-MOCK - MOCK do some prints on the screen\n",
    "import MOCK_AccountDetails\n",
    "\n",
    "from random import randint, uniform, random\n",
    "\n",
    "CR = '\\n'\n",
    "\n",
    "class ActionAccountNumber(Action):\n",
    "    # via this function, we can get the action name.\n",
    "    # if something is predicted, the chatbot will use this class\n",
    "    def name(self):\n",
    "        return 'action_accountnumber'\n",
    "    \n",
    "    # if this action should run, this function is called\n",
    "    def run(self, dispatcher, tracker, domain):\n",
    "        username = tracker.get_slot('username')\n",
    "        username = username if username else \"ERROR_UNKNOWN_USER\"\n",
    "        #\n",
    "        # create an account list from 1..10 checking accounts and 1..5 saving accounts\n",
    "        accounts = MOCK_Response (username, randint(1,10), randint(1,5), CR)\n",
    "        title = accounts[0][\"Title\"]\n",
    "        account_list = CR + accounts[1]\n",
    "        response = \"Hi {} {}, I found follwing accounts : {}\".format(title, username, account_list)\n",
    "        \n",
    "        #\n",
    "        # send it out to the user\n",
    "        dispatcher.utter_message(response)\n",
    "        return [SlotSet('accounts', accounts)]\n",
    "\n",
    "class ActionUsername(Action):\n",
    "    def name(self):\n",
    "        return 'action_username'\n",
    "    \n",
    "    def run(self, dispatcher, tracker, domain):\n",
    "        username = tracker.get_slot('username')\n",
    "        username = username if username else \"ERROR_UNKNOWN_USER\"\n",
    "\n",
    "        message = \"Hi {}, nice to meet you\".format(username)\n",
    "        dispatcher.utter_message(message)\n",
    "        return [SlotSet('username', username)]\n",
    "\n",
    "    \n",
    "class ActionHelp(Action):\n",
    "    def name(self):\n",
    "        return 'action_help'\n",
    "    \n",
    "    def run(self, dispatcher, tracker, domain):\n",
    "        username = tracker.get_slot('username')\n",
    "        username = username if username else \"ERROR_UNKNOWN_USER\"\n",
    "\n",
    "        help = 'Following things can I do fo your' + CR\n",
    "        help += 'ask me for your IBAN'\n",
    "        help += 'ask me for your banks BIC'\n",
    "        help += 'I can collect all your accounts'\n",
    "        help += 'I can give you current balance for an account'\n",
    "        help += 'I can check your debit for an account'\n",
    "\n",
    "        dispatcher.utter_message(help)\n",
    "        return [SlotSet('username', username)]\n",
    "\n",
    "        \n",
    "        \n",
    "        "
   ]
  },
  {
   "cell_type": "markdown",
   "metadata": {},
   "source": [
    "## Step 3 (STORIES) - Creating a Story for CoCO\n",
    "\n",
    "Don't worry, this is only a first step. Later on, we create more sophisticated stories"
   ]
  },
  {
   "cell_type": "code",
   "execution_count": null,
   "metadata": {},
   "outputs": [],
   "source": [
    "stories = \"\"\"\n",
    "\n",
    "## Story 01\n",
    "* greet\n",
    "    - utter_greet\n",
    "    - utter_ask_username\n",
    "    - action_username\n",
    "\n",
    "## Story 02\n",
    "* goodbye\n",
    "    - utter_goodbye\n",
    "        \n",
    "## Story 04\n",
    "* user_ask_accountnumbers \n",
    "    - utter_ask_accountnumber\n",
    "    - action_accountnumber\n",
    "\n",
    "## Story 06\n",
    "* user_need_help\n",
    "    - action_help\n",
    "    \n",
    "## Story 07\n",
    "* chatbot_need_username\n",
    "    - utter_ask_username\n",
    "    - action_username\n",
    "\n",
    "\"\"\"\n",
    "%store stories > data/coco_stories.md"
   ]
  },
  {
   "cell_type": "markdown",
   "metadata": {},
   "source": [
    "# Now we want to train CoCO online (awsome training functionality)\n",
    "\n"
   ]
  },
  {
   "cell_type": "markdown",
   "metadata": {},
   "source": [
    "## STEP 1 ONLINE-TRAINING - creating a train_init.py file\n",
    "\n",
    "Be patient, due to 500 epochs, this can take up to 5mins before system is ready for an online training"
   ]
  },
  {
   "cell_type": "markdown",
   "metadata": {},
   "source": [
    "## Step 1a - Visualizing your Stories"
   ]
  },
  {
   "cell_type": "code",
   "execution_count": 4,
   "metadata": {
    "scrolled": false
   },
   "outputs": [
    {
     "name": "stderr",
     "output_type": "stream",
     "text": [
      "Using TensorFlow backend.\n"
     ]
    },
    {
     "name": "stdout",
     "output_type": "stream",
     "text": [
      "Checking Account 0\n",
      "Checking Account 1\n",
      "Saving Account 0\n",
      "{'Owner': 'CoCO', 'Title': 'Dr.', 'Accounts': {'Checking_account': [{'Number': '5258508992', 'IBAN': 'DE53300400005258508992', 'Created': '10.01.2010', 'Balance': 11571.48, 'Debit': 1000, 'Currency': '€'}, {'Number': '1889812558', 'IBAN': 'DE53300400001889812558', 'Created': '10.01.2010', 'Balance': 11472.96, 'Debit': 10000, 'Currency': '€'}, {'Number': '9789675264', 'IBAN': 'DE53300400009789675264', 'Created': '10.01.2010', 'Balance': 37320.26, 'Debit': 0, 'Currency': '€'}], 'Saving_account': [{'Number': '5258508992', 'IBAN': 'DE53300400005258508992', 'Created': '10.01.2010', 'Balance': 11571.48, 'Debit': 1000, 'Currency': '€'}, {'Number': '1889812558', 'IBAN': 'DE53300400001889812558', 'Created': '10.01.2010', 'Balance': 11472.96, 'Debit': 10000, 'Currency': '€'}, {'Number': '9789675264', 'IBAN': 'DE53300400009789675264', 'Created': '10.01.2010', 'Balance': 37320.26, 'Debit': 0, 'Currency': '€'}]}, 'DayOfBirth': '04.MAR.1973', 'CityOfBirth': 'Keras', 'Address': 'Cloudy Street 26a', 'Zip': 12345, 'City': 'Heaven', 'Phone': ['004032122453'], 'Mobile': ['004015175075300']}\n",
      "Checking-Accounts\n",
      "-----------------\n",
      "  1. IBAN: DE53300400005258508992, Current Balance:     11571.48€\n",
      "  2. IBAN: DE53300400001889812558, Current Balance:     11472.96€\n",
      "  3. IBAN: DE53300400009789675264, Current Balance:     37320.26€\n",
      "\n"
     ]
    },
    {
     "name": "stderr",
     "output_type": "stream",
     "text": [
      "Processed Story Blocks: 100%|██████████| 5/5 [00:00<00:00, 354.01it/s, # trackers=1]\n"
     ]
    }
   ],
   "source": [
    "#%%writefile visualize_coco_dialog.py\n",
    "\n",
    "from __future__ import absolute_import\n",
    "from __future__ import division\n",
    "from __future__ import print_function\n",
    "from __future__ import unicode_literals\n",
    "\n",
    "from rasa_core.agent import Agent\n",
    "from rasa_core.policies.keras_policy import KerasPolicy\n",
    "from rasa_core.policies.memoization import MemoizationPolicy\n",
    "\n",
    "if __name__ == '__main__':\n",
    "    agent = Agent(\"coco_domain.yml\",\n",
    "                  policies=[MemoizationPolicy(), KerasPolicy()])\n",
    "\n",
    "    agent.visualize(\"data/coco_stories.md\",\n",
    "                    output_file=\"coco_graph.png\", max_history=2)"
   ]
  },
  {
   "cell_type": "markdown",
   "metadata": {},
   "source": [
    "## coco_graph.png\n",
    "This graph show a dialog flow of your current stories"
   ]
  },
  {
   "cell_type": "markdown",
   "metadata": {},
   "source": [
    "<img src=\"./coco_graph.png\">"
   ]
  },
  {
   "cell_type": "markdown",
   "metadata": {},
   "source": [
    "## 1b - Start Trainit initalization\n",
    "\n",
    "This can take up to several minutes, due to size of domain.yml and stories.md"
   ]
  },
  {
   "cell_type": "code",
   "execution_count": null,
   "metadata": {
    "scrolled": true
   },
   "outputs": [],
   "source": [
    "#%%writefile train_init.py\n",
    "\n",
    "from __future__ import absolute_import\n",
    "from __future__ import division\n",
    "from __future__ import unicode_literals\n",
    "\n",
    "import logging\n",
    "\n",
    "# this is the trainter agent\n",
    "from rasa_core.agent import Agent\n",
    "# both imports are the models how to train our model\n",
    "from rasa_core.policies.keras_policy import KerasPolicy\n",
    "from rasa_core.policies.memoization import MemoizationPolicy\n",
    "\n",
    "if __name__ == '__main__':\n",
    "    logging.basicConfig(level='INFO')\n",
    "    # our stories for for the trainging\n",
    "    training_data_file = './data/coco_stories.md'\n",
    "    # path where files should be stored\n",
    "    model_path = './models/dialogue'\n",
    "    # Create a training agent with our domain file and the training models\n",
    "    agent = Agent('coco_domain.yml', policies = [MemoizationPolicy(max_history = 2), KerasPolicy()])\n",
    "    # start training, with 500 epochs (iterations), use a batch size of 10, and split trainting data into 80/20\n",
    "    agent.train(\n",
    "            training_data_file,\n",
    "            epochs = 500,\n",
    "            batch_size = 10,\n",
    "            validation_split = 0.2)\n",
    "    # store results       \n",
    "    agent.persist(model_path)"
   ]
  },
  {
   "cell_type": "markdown",
   "metadata": {},
   "source": [
    "### Check created model files\n",
    "If above cell is successfully finished, please switch to jupyter-home and check **models/dialogue**. The train_init.py create a couple of files"
   ]
  },
  {
   "cell_type": "markdown",
   "metadata": {},
   "source": [
    "# Ready for an online training for CoCO\n",
    "\n",
    "If you start next cell, the bot is started and wait for user input. You can now test all implemented stories. After every input, system (**CoCO**) return a prediction. You have to check if his prediction is\n",
    "* ok (YES)\n",
    "* not ok (NO)\n",
    "    - decide why it is not ok\n",
    "    - choose the correct behaviour\n",
    "    \n",
    "    \n",
    "** it can take up to 5min before system is ready for training **"
   ]
  },
  {
   "cell_type": "code",
   "execution_count": null,
   "metadata": {},
   "outputs": [],
   "source": [
    "#%%writefile train_online.py\n",
    "\n",
    "from __future__ import absolute_import\n",
    "from __future__ import division\n",
    "from __future__ import print_function\n",
    "from __future__ import unicode_literals\n",
    "\n",
    "import logging\n",
    "\n",
    "from rasa_core.agent import Agent\n",
    "from rasa_core.channels.console import ConsoleInputChannel\n",
    "from rasa_core.interpreter import RegexInterpreter\n",
    "from rasa_core.policies.keras_policy import KerasPolicy\n",
    "from rasa_core.policies.memoization import MemoizationPolicy\n",
    "from rasa_core.interpreter import RasaNLUInterpreter\n",
    "\n",
    "logger = logging.getLogger(__name__)\n",
    "\n",
    "\n",
    "def run_coco_online(input_channel, interpreter,\n",
    "                          domain_file=\"coco_domain.yml\",\n",
    "                          training_data_file='data/coco_stories.md'):\n",
    "    agent = Agent(domain_file,\n",
    "                  policies=[MemoizationPolicy(max_history=2), KerasPolicy()],\n",
    "                  interpreter=interpreter)\n",
    "\n",
    "    agent.train_online(training_data_file,\n",
    "                       input_channel=input_channel,\n",
    "                       batch_size=50,\n",
    "                       epochs=200,\n",
    "                       max_training_samples=300)\n",
    "\n",
    "    return agent\n",
    "\n",
    "\n",
    "if __name__ == '__main__':\n",
    "    #\n",
    "    # change ERROR to INFO and you see more details for the training phase\n",
    "    logging.basicConfig(level=\"INFO\")\n",
    "    nlu_interpreter = RasaNLUInterpreter('./models/nlu/default/coconlu')\n",
    "    run_coco_online(ConsoleInputChannel(), nlu_interpreter)"
   ]
  },
  {
   "cell_type": "code",
   "execution_count": null,
   "metadata": {},
   "outputs": [],
   "source": []
  },
  {
   "cell_type": "code",
   "execution_count": null,
   "metadata": {},
   "outputs": [],
   "source": []
  },
  {
   "cell_type": "code",
   "execution_count": null,
   "metadata": {},
   "outputs": [],
   "source": []
  },
  {
   "cell_type": "markdown",
   "metadata": {},
   "source": [
    "## Account-MOCK\n",
    "\n",
    "This is your test structure, which is used for account numbers. If user take access to the account number, we will generate randomly one or more accounts for the user. Owner will be the user himself. Rest of data is randomly \n",
    "\n",
    "    {\n",
    "      \"Owner\": \"Peter Pan\",\n",
    "      \"Title\": \"PhD\",\n",
    "      \"Accounts\" : {\n",
    "        \"Checking_account\" : [{\n",
    "          \"Number\": \"3012345678\" ,\n",
    "          \"Created\" : \"01.01.2010\",\n",
    "          \"Balance\" : 34566.00,\n",
    "          \"Debit\" : 10000,\n",
    "          \"Currency\" : \"€\"\n",
    "          },\n",
    "          {\n",
    "          \"Number\": \"3087654321\" ,\n",
    "          \"Created\" : \"01.01.2010\",\n",
    "          \"Balance\" : 23053.35,\n",
    "          \"Debit\" : 15000,\n",
    "          \"Currency\" : \"€\"\n",
    "          }      \n",
    "          ],\n",
    "        \"Saving_account\"   : [{\n",
    "          \"Number\": \"9912345678\" ,\n",
    "          \"Created\" : \"01.01.2010\",\n",
    "          \"Balance\" : 15000.00,\n",
    "          \"Debit\" : 0,\n",
    "          \"Currency\" : \"€\"\n",
    "        }]},\n",
    "      \"DayOfBirth\": \"04.MAR.1973\",\n",
    "      \"CityOfBirth\" : \"Keras\",\n",
    "      \"Address\": \"Cloudy Street 26a\",\n",
    "      \"Zip\": 12345,\n",
    "      \"City\" : \"Heaven\",\n",
    "      \"Phone\" : [\"004032122453\"],\n",
    "      \"Mobile\" : [\"004015175075300\"]\n",
    "    }"
   ]
  },
  {
   "cell_type": "code",
   "execution_count": null,
   "metadata": {},
   "outputs": [],
   "source": [
    "#%%writefile MOCK_AccountDetails.py\n",
    "\n",
    "from random import randint, uniform, random\n",
    "\n",
    "CR = '\\n'\n",
    "\n",
    "def MOCK_CreateCoBAAccountID():\n",
    "    L = [randint(0, 9) for p in range(0, 10)]\n",
    "    #print (''.join(str(e) for e in L))    \n",
    "    return \"\".join(str(e) for e in L)\n",
    "\n",
    "def MOCK_IBANAccountID():\n",
    "    account = MOCK_CreateCoBAAccountID()\n",
    "    return [\"DE5330040000\" + account, account]\n",
    "\n",
    "def MOCK_AccountDetails(name, numberOfAccounts, numberOfSavingAccounts):\n",
    "    titles = ['','Dr.','PhD','Prof', 'God']\n",
    "    structure = {\n",
    "                  \"Owner\": \"Peter Pan\",\n",
    "                  \"Title\": \"PhD\",\n",
    "                  \"Accounts\" : {\n",
    "                    \"Checking_account\" : [{\n",
    "                      \"Number\": \"1234567890\" ,\n",
    "                      \"IBAN\" : \"DE53300400001234567890\",\n",
    "                      \"Created\" : \"10.01.2010\",\n",
    "                      \"Balance\" : 34566.00,\n",
    "                      \"Debit\" : 10000,\n",
    "                      \"Currency\" : \"€\"\n",
    "                      },\n",
    "                      {\n",
    "                      \"Number\": \"0987654321\" ,\n",
    "                      \"IBAN\" : \"DE53300400000987654321\",\n",
    "                      \"Created\" : \"03.05.2011\",\n",
    "                      \"Balance\" : 23053.35,\n",
    "                      \"Debit\" : 15000,\n",
    "                      \"Currency\" : \"€\"\n",
    "                      }      \n",
    "                      ],\n",
    "                    \"Saving_account\"   : [{\n",
    "                      \"Number\": \"9912345678\" ,\n",
    "                      \"IBAN\" : \"DE53300400009912345678\",\n",
    "                      \"Created\" : \"10.01.2010\",\n",
    "                      \"Balance\" : 15000.00,\n",
    "                      \"Debit\" : 0,\n",
    "                      \"Currency\" : \"€\"\n",
    "                    }]},\n",
    "                  \"DayOfBirth\": \"04.MAR.1973\",\n",
    "                  \"CityOfBirth\" : \"Keras\",\n",
    "                  \"Address\": \"Cloudy Street 26a\",\n",
    "                  \"Zip\": 12345,\n",
    "                  \"City\" : \"Heaven\",\n",
    "                  \"Phone\" : [\"004032122453\"],\n",
    "                  \"Mobile\" : [\"004015175075300\"]\n",
    "                }\n",
    "    structure['Owner'] = name if name else \"unknown\"\n",
    "    structure['Title'] = titles[randint(0, 4)]\n",
    "    #\n",
    "    # create number of accounts (only checking accounts (Girokonten))\n",
    "    accounts = []\n",
    "    \n",
    "    if numberOfAccounts < 1: \n",
    "        numberOfAccounts = 1\n",
    "    if numberOfAccounts > 10: \n",
    "        numberOfAccounts = 10\n",
    "   \n",
    "    #\n",
    "    # create checking accounts\n",
    "    for x in range (0, numberOfAccounts):\n",
    "        print (\"Checking Account {}\".format(x))\n",
    "        ano = MOCK_IBANAccountID()\n",
    "        maxDebit = round(randint(1,10),0) * 1000\n",
    "        s = {\n",
    "              \"Number\": ano[1] ,\n",
    "              \"IBAN\" : ano[0],\n",
    "              \"Created\" : \"10.01.2010\",\n",
    "              \"Balance\" : round(uniform((maxDebit*-1),15000), 2),\n",
    "              \"Debit\" : maxDebit,\n",
    "              \"Currency\" : \"€\"            \n",
    "            } \n",
    "        accounts.append(s)\n",
    "    ##\n",
    "    ##\n",
    "    structure['Accounts']['Checking_account'] = accounts\n",
    " \n",
    "    #\n",
    "    # create saving accounts\n",
    "    if numberOfSavingAccounts < 1: \n",
    "        numberOfSavingAccounts = 1\n",
    "    if numberOfSavingAccounts > 5: \n",
    "        numberOfSavingAccounts = 5\n",
    "   \n",
    "\n",
    "    for x in range (0, numberOfSavingAccounts):\n",
    "        print (\"Saving Account {}\".format(x))\n",
    "        ano = MOCK_IBANAccountID()\n",
    "        s = {\n",
    "              \"Number\": ano[1] ,\n",
    "              \"IBAN\" : ano[0],\n",
    "              \"Created\" : \"10.01.2010\",\n",
    "              \"Balance\" : round(uniform(0,100000), 2),\n",
    "              \"Debit\" : 0,\n",
    "              \"Currency\" : \"€\"            \n",
    "            } \n",
    "        accounts.append(s)\n",
    "    ##\n",
    "    ##\n",
    "    structure['Accounts']['Saving_account'] = accounts\n",
    "\n",
    "    return structure\n",
    "\n",
    "def MOCK_Response(username, numberOfAccounts, numberOfSavingAccounts, CR):\n",
    "    accounts = MOCK_AccountDetails(username, numberOfAccounts,numberOfSavingAccounts)\n",
    "    #print (accounts)\n",
    "\n",
    "    response = \"\"\"Checking-Accounts\"\"\"\n",
    "    response +=  CR + \"-----------------\"\n",
    "    response += CR\n",
    "    x=1\n",
    "    for a in accounts['Accounts']['Checking_account']:\n",
    "        response += \"{:>3}. IBAN: {}, Current Balance: {:>12}{}\".format(x, a[\"IBAN\"],  a[\"Balance\"], a['Currency'])\n",
    "        if a[\"Balance\"] < 0.0:\n",
    "            response += \" Your current debit is max {}{}\".format(a['Debit'],a['Currency'])\n",
    "        response += CR\n",
    "        x = x+1\n",
    "    return [accounts, response]\n",
    "\n",
    "\n",
    "result = MOCK_Response('CoCO',2,1, '\\n')\n",
    "print (result[0])\n",
    "print (result[1])"
   ]
  },
  {
   "cell_type": "code",
   "execution_count": null,
   "metadata": {},
   "outputs": [],
   "source": []
  },
  {
   "cell_type": "markdown",
   "metadata": {},
   "source": [
    "# We use TELEGRAM as our chat app"
   ]
  },
  {
   "cell_type": "code",
   "execution_count": null,
   "metadata": {},
   "outputs": [],
   "source": [
    "pip3 install -U python-telegram-bot"
   ]
  }
 ],
 "metadata": {
  "kernelspec": {
   "display_name": "Python 3",
   "language": "python",
   "name": "python3"
  },
  "language_info": {
   "codemirror_mode": {
    "name": "ipython",
    "version": 3
   },
   "file_extension": ".py",
   "mimetype": "text/x-python",
   "name": "python",
   "nbconvert_exporter": "python",
   "pygments_lexer": "ipython3",
   "version": "3.6.6"
  }
 },
 "nbformat": 4,
 "nbformat_minor": 2
}
